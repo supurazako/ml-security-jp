{
  "nbformat": 4,
  "nbformat_minor": 0,
  "metadata": {
    "colab": {
      "name": "Chapter1.ipynb",
      "provenance": [],
      "gpuType": "T4",
      "include_colab_link": true
    },
    "kernelspec": {
      "name": "python3",
      "display_name": "Python 3"
    },
    "language_info": {
      "name": "python"
    },
    "accelerator": "GPU"
  },
  "cells": [
    {
      "cell_type": "markdown",
      "metadata": {
        "id": "view-in-github",
        "colab_type": "text"
      },
      "source": [
        "<a href=\"https://colab.research.google.com/github/supurazako/ml-security-jp/blob/master/ch01/Chapter1.ipynb\" target=\"_parent\"><img src=\"https://colab.research.google.com/assets/colab-badge.svg\" alt=\"Open In Colab\"/></a>"
      ]
    },
    {
      "cell_type": "markdown",
      "metadata": {
        "id": "icMuF6uzg5qR"
      },
      "source": [
        "## 1章 情報セキュリティエンジニアのための機械学習入門"
      ]
    },
    {
      "cell_type": "code",
      "metadata": {
        "id": "8cX0lhShg2D3",
        "outputId": "dbc60f4b-161f-4bbe-9781-5b8989aa76e0",
        "colab": {
          "base_uri": "https://localhost:8080/"
        }
      },
      "source": [
        "print(\"Hello j-semi!\")"
      ],
      "execution_count": 2,
      "outputs": [
        {
          "output_type": "stream",
          "name": "stdout",
          "text": [
            "Hello j-semi!\n"
          ]
        }
      ]
    },
    {
      "cell_type": "markdown",
      "source": [
        "## 概要\n",
        "2025年度、北海道情報大学 Jゼミでつかったノートです。元々のオライリーで公開されていたノートに追記していきます。\n",
        "\n",
        "* 利用の際には、ランタイムを`T4 GPU`にして作業しましょう。"
      ],
      "metadata": {
        "id": "g9hacbOPT-j7"
      }
    },
    {
      "cell_type": "markdown",
      "source": [
        "# 機械学習とは?\n",
        "\n",
        "* データセットの取得\n",
        "  * データの取得とラベル付け\n",
        "* データの読み込み、前処理\n",
        "  * 前処理: 欠損値処理、ノイズ除去\n",
        "    * ノイズ除去: 異常値を取り除く(e.g. 気圧を観測しているところにトラックが通り、気候変動では、あり得ない数値が得られた)\n",
        "* データの探索、特徴量の設計\n",
        "  * 見たい・知りたい・推定したい量を「特徴づける」量を探す\n",
        "  * e.g. フィッシングサイト「っぽい」特徴を見つける。これまでは、経験者の勘による属人性が高かった。それを特徴量に応じて、判断するのが機械学習。\n",
        "* モデルの訓練と評価\n",
        "  * データセットを用いた訓練、アンサブル試行など。うまくいかない場合は1つ前に戻って設計。\n",
        "  * >「アンサンブル学習は、機械学習の手法で、より精度の高い予測を得るために、2つ以上の学習モデル（例：回帰モデル、ニューラル・ネットワーク）を組み合わせたものです」†1\n",
        "\n",
        "†1:https://www.ibm.com/jp-ja/think/topics/ensemble-learning"
      ],
      "metadata": {
        "id": "wm-6-r0wVT9Y"
      }
    },
    {
      "cell_type": "markdown",
      "source": [
        "# 今後の予定\n",
        "数学的なお話はあんまりしないけれど、必要に応じて。\n",
        "イメージは沢山話すことになります。図は沢山つくります(主に教員が)。\n",
        "\n",
        "公開されているライブラリのドキュメントをちゃんと読んで、使えるようになりましょう。"
      ],
      "metadata": {
        "id": "5CNvfCwBaNLP"
      }
    }
  ]
}